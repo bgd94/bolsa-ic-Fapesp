{
  "nbformat": 4,
  "nbformat_minor": 0,
  "metadata": {
    "colab": {
      "provenance": []
    },
    "kernelspec": {
      "name": "python3",
      "display_name": "Python 3"
    }
  },
  "cells": [
    {
      "cell_type": "markdown",
      "metadata": {
        "id": "EnyONbNhCqSK"
      },
      "source": [
        "# **Usando Python e dados abertos no Google Colab**\n",
        "\n",
        "Bruno Gimenes Delphim\n",
        "\n",
        "[*'Discente do curso de Biblioteconomia e Ciência da Informação - Campus USP-RP*](https://github.com/bgd94)\n",
        "\n",
        "Neste notebook do Google Colab, eu vou mostrar como utilizar Python para acessar dados abertos do governo.\n",
        "\n",
        "---"
      ]
    },
    {
      "cell_type": "markdown",
      "metadata": {
        "id": "FftFvPLNiZME"
      },
      "source": [
        "## Python"
      ]
    },
    {
      "cell_type": "markdown",
      "source": [
        "## catalogos-dados-brasil (**tableschema & datapackage**)\n",
        "Conforme https://github.com/dadosgovbr/catalogos-dados-brasil/blob/master/scripts/uso/como-usar-com-o-pandas.ipynb"
      ],
      "metadata": {
        "id": "WFPqa06xddD8"
      }
    },
    {
      "cell_type": "markdown",
      "source": [
        "### Utilizando o terminal/prompt de comando para instalar pacotes Python externos"
      ],
      "metadata": {
        "id": "mBZOkhbQhEi7"
      }
    },
    {
      "cell_type": "code",
      "source": [
        "pip install datapackage tableschema-pandas plotly plotly_express"
      ],
      "metadata": {
        "id": "XwrdHulzdp-1"
      },
      "execution_count": null,
      "outputs": []
    },
    {
      "cell_type": "markdown",
      "source": [
        "#### Imprimindo versões instaladas"
      ],
      "metadata": {
        "id": "YUseo243hWOK"
      }
    },
    {
      "cell_type": "code",
      "source": [
        "pip freeze | grep -e datapackage -e tableschema -e plotly"
      ],
      "metadata": {
        "id": "OCxruAb4gx_f"
      },
      "execution_count": null,
      "outputs": []
    },
    {
      "cell_type": "markdown",
      "source": [
        "### Lendo o pacote de dados (**plotly**)"
      ],
      "metadata": {
        "id": "heb_dvr3hnsV"
      }
    },
    {
      "cell_type": "code",
      "source": [
        "import pandas as pd\n",
        "\n",
        "# Para trabalhar com Frictionless Data – frictionlessdata.io\n",
        "from tableschema import Storage\n",
        "from datapackage import Package\n",
        "\n",
        "# Para visualização\n",
        "import plotly_express as px\n",
        "import plotly as py, plotly.graph_objects as go\n",
        "\n",
        "\n",
        "# Tentar gravar no Panda e imprimir \"true\" se for bem-sucedido\n",
        "output = \"true\"\n",
        "try:\n",
        "    url = 'https://github.com/dadosgovbr/catalogos-dados-brasil/raw/master/datapackage.json'\n",
        "\n",
        "    # Conectar ao armazenamento Pandas\n",
        "    storage = Storage.connect('pandas')\n",
        "\n",
        "    # Carregar o pacote de dados da URL e salvar no armazenamento\n",
        "    package = Package(url)\n",
        "    package.save(storage=storage)\n",
        "\n",
        "    # Se não houver exceções, imprimir \"true\"\n",
        "\n",
        "\n",
        "except Exception as e:\n",
        "    # Se ocorrer uma exceção, imprimir \"false\" e a mensagem de erro\n",
        "    output = \"false\"\n",
        "    print(e)\n",
        "\n",
        "output\n",
        "\n",
        "storage.buckets\n",
        "\n",
        "type(storage['catalogos'])\n",
        "\n",
        "storage['solucao']\n",
        "\n",
        "storage['catalogos'].head()\n",
        "\n",
        "tipo_solucao = storage['catalogos'].groupby('Solução').count()['URL'].rename('quantidade')\n",
        "tipo_solucao\n",
        "\n",
        "px.bar(\n",
        "    pd.DataFrame(tipo_solucao).reset_index(),\n",
        "    x = 'Solução',\n",
        "    y = 'quantidade',\n",
        "    color = 'Solução',\n",
        "    color_discrete_sequence = py.colors.qualitative.Set2\n",
        ")\n",
        "\n",
        "poder = storage['catalogos'].groupby('Poder').count()['URL'].rename('quantidade')\n",
        "poder\n",
        "\n",
        "go.Figure(\n",
        "    data=go.Pie(\n",
        "        labels=poder.index,\n",
        "        values=poder.values,\n",
        "        hole=.4\n",
        "    )\n",
        ").show()\n",
        "\n",
        "esfera = storage['catalogos'].groupby('Esfera').count()['URL'].rename('quantidade')\n",
        "esfera\n",
        "\n",
        "go.Figure(\n",
        "    data=go.Pie(\n",
        "        labels=esfera.index,\n",
        "        values=esfera.values,\n",
        "        hole=.4\n",
        "    )\n",
        ").show()\n",
        "\n",
        "uf = storage['catalogos'].groupby('UF').count()['URL'].rename('quantidade')\n",
        "uf\n",
        "\n",
        "px.bar(\n",
        "    pd.DataFrame(uf).reset_index(),\n",
        "    x = 'UF',\n",
        "    y = 'quantidade',\n",
        "    color = 'UF',\n",
        "    color_discrete_sequence = py.colors.qualitative.Set3\n",
        ")"
      ],
      "metadata": {
        "id": "JZUbhoBHhve6"
      },
      "execution_count": null,
      "outputs": []
    },
    {
      "cell_type": "markdown",
      "source": [
        "## excercicio-dados-sp (**frictionless**)\n"
      ],
      "metadata": {
        "id": "roYXF5U84UI3"
      }
    },
    {
      "cell_type": "markdown",
      "source": [
        "### Utilizando o terminal/prompt de comando para instalar pacotes Python externos"
      ],
      "metadata": {
        "id": "Jip0OzxrBvoW"
      }
    },
    {
      "cell_type": "code",
      "source": [
        "pip install frictionless plotly plotly_express"
      ],
      "metadata": {
        "id": "MZbkWPVmx32v"
      },
      "execution_count": null,
      "outputs": []
    },
    {
      "cell_type": "markdown",
      "source": [
        "#### Imprimindo versões instaladas"
      ],
      "metadata": {
        "id": "Vuce9Oa8B5sp"
      }
    },
    {
      "cell_type": "code",
      "source": [
        "pip freeze | grep -e frictionless -e plotly"
      ],
      "metadata": {
        "id": "ZLLzoR-gdQj9"
      },
      "execution_count": null,
      "outputs": []
    },
    {
      "cell_type": "markdown",
      "source": [
        "### Lendo o pacote de dados"
      ],
      "metadata": {
        "id": "1cE8tbqMDXuQ"
      }
    },
    {
      "cell_type": "code",
      "source": [
        "import pandas as pd\n",
        "#from google.colab import drive\n",
        "from frictionless import describe, Detector, extract, formats, Resource, validate\n",
        "from pprint import pprint\n",
        "import sqlite3"
      ],
      "metadata": {
        "id": "PRZBGZyEF6Oq"
      },
      "execution_count": 111,
      "outputs": []
    },
    {
      "cell_type": "code",
      "source": [
        "#drive.mount(\"/content/drive\", force_remount=True)"
      ],
      "metadata": {
        "id": "9MRNUegDGAsK"
      },
      "execution_count": 49,
      "outputs": []
    },
    {
      "cell_type": "code",
      "source": [
        "def convert_excel_to_csv(path, file, extension):\n",
        "  content = pd.read_excel(f\"{path}/{file}.{extension}\")\n",
        "\n",
        "  content.to_csv(f\"{file}.csv\", mode = \"a\", index = None, header = True)\n",
        "\n",
        "  return f\"{file}.csv\""
      ],
      "metadata": {
        "id": "Thyx9et0F55S"
      },
      "execution_count": 50,
      "outputs": []
    },
    {
      "cell_type": "code",
      "source": [
        "csv_file_path = convert_excel_to_csv(\"/content\", \"IDESP_ESCOLA_2022\", \"xlsx\")"
      ],
      "metadata": {
        "id": "zoTcv_InLak6"
      },
      "execution_count": 70,
      "outputs": []
    },
    {
      "cell_type": "code",
      "source": [
        "# Descrevendo os dados\n",
        "\n",
        "description = describe(csv_file_path)\n",
        "pprint(description)"
      ],
      "metadata": {
        "id": "pux_5v3j-vr9"
      },
      "execution_count": null,
      "outputs": []
    },
    {
      "cell_type": "code",
      "source": [
        "# Ajustar metadados caso necessário (ex.: field_missing_values, resource.schema.foreign_keys -> .yaml)"
      ],
      "metadata": {
        "id": "1vpqSZICWG_6"
      },
      "execution_count": 53,
      "outputs": []
    },
    {
      "cell_type": "code",
      "source": [
        "# Extraindo dados\n",
        "\n",
        "rows = extract(csv_file_path)\n",
        "#pprint(rows)\n",
        "\n",
        "first_or_default = list(rows.values())[0]\n",
        "print(first_or_default)"
      ],
      "metadata": {
        "id": "zVR7a-OsKxCW"
      },
      "execution_count": null,
      "outputs": []
    },
    {
      "cell_type": "code",
      "source": [
        "# Validando dados\n",
        "\n",
        "report = validate(csv_file_path)\n",
        "pprint(report)"
      ],
      "metadata": {
        "id": "jBlLTQjoLOwG"
      },
      "execution_count": null,
      "outputs": []
    },
    {
      "cell_type": "code",
      "source": [
        "# Carrega extensao SQL no ambiente\n",
        "\n",
        "%load_ext sql\n",
        "\n",
        "# Cria arquivo de banco de dados SQLite local -> PostgreSQL seria mais adequado\n",
        "# para aplicativos de grande escala e necessidades de segurança avançadas.\n",
        "%%sql\n",
        "sqlite:///project.db"
      ],
      "metadata": {
        "id": "9RqbjEBYbbEj"
      },
      "execution_count": 96,
      "outputs": []
    },
    {
      "cell_type": "code",
      "source": [
        "# Cria recurso no formato 'Data Resource' a partir do arquivo .csv validado\n",
        "\n",
        "resource = Resource(csv_file_path)"
      ],
      "metadata": {
        "id": "8xPufOZ1SNle"
      },
      "execution_count": null,
      "outputs": []
    },
    {
      "cell_type": "code",
      "source": [
        "# Indexa/carrega dados do recurso 'Data Resource' na tabela 'idesp' do banco de dados\n",
        "\n",
        "resource.index('sqlite:///project.db', name='idesp', fast=True, fallback=True)\n",
        "print(Resource('sqlite:///project.db', control=formats.sql.SqlControl(table='idesp')).extract())"
      ],
      "metadata": {
        "id": "h-EOqhWHe-aJ"
      },
      "execution_count": null,
      "outputs": []
    },
    {
      "cell_type": "code",
      "source": [
        "# Seleciona primeiros 3 registros da tabela 'idesp' no banco de dados\n",
        "\n",
        "%%sql\n",
        "select * from idesp limit 3;"
      ],
      "metadata": {
        "id": "VtU38gOobs7d"
      },
      "execution_count": null,
      "outputs": []
    },
    {
      "cell_type": "code",
      "source": [
        "!pip install db-sqlite3"
      ],
      "metadata": {
        "id": "K0Pzhl6ri2ed"
      },
      "execution_count": null,
      "outputs": []
    },
    {
      "cell_type": "code",
      "source": [
        "import pandas as pd\n",
        "import sqlite3\n",
        "from datetime import date"
      ],
      "metadata": {
        "id": "3lwr_IZWpWxx"
      },
      "execution_count": 113,
      "outputs": []
    },
    {
      "cell_type": "code",
      "source": [
        "db = sqlite3.connect(\"project.db\")"
      ],
      "metadata": {
        "id": "dW3YuWjnpZX6"
      },
      "execution_count": 114,
      "outputs": []
    },
    {
      "cell_type": "code",
      "source": [
        "db = sqlite3.connect(\"project.db\")\n",
        "query = \"\"\"\n",
        "  select * from idesp limit 10\n",
        "\"\"\"\n",
        "df = pd.read_sql_query(query,db)\n",
        "df.head(5)"
      ],
      "metadata": {
        "colab": {
          "base_uri": "https://localhost:8080/",
          "height": 411
        },
        "id": "wRhKtXzEpbqo",
        "outputId": "0b34451e-20af-4ef5-dee2-a4007fefcf43"
      },
      "execution_count": 115,
      "outputs": [
        {
          "output_type": "execute_result",
          "data": {
            "text/plain": [
              "    ANO  CODIGO_CIE  CODIGO_INEP  CODIGO_DIRETORIA NOME_DIRETORIA  \\\n",
              "0  2022          12     35000012             10101        NORTE 1   \n",
              "1  2022          24     35000024             10101        NORTE 1   \n",
              "2  2022          36     35000036             10101        NORTE 1   \n",
              "3  2022          48     35000048             10101        NORTE 1   \n",
              "4  2022          59     35000059             10101        NORTE 1   \n",
              "\n",
              "                              NOME_ESCOLA NOME_MUNICIPIO  ANOS_INICIAIS  \\\n",
              "0                AYRES DE MOURA PROFESSOR      SAO PAULO            NaN   \n",
              "1               GAVIAO PEIXOTO BRIGADEIRO      SAO PAULO            4.0   \n",
              "2                            JOAO SOLIMEO      SAO PAULO            NaN   \n",
              "3       WALFREDO ARANTES CALDAS PROFESSOR      SAO PAULO            NaN   \n",
              "4  SEBASTIAO DE OLIVEIRA GUSMAO PROFESSOR      SAO PAULO            NaN   \n",
              "\n",
              "   ANOS_FINAIS  ENSINO_MEDIO  \n",
              "0         4.25           NaN  \n",
              "1         2.53          0.95  \n",
              "2         2.33          1.09  \n",
              "3          NaN          0.97  \n",
              "4          NaN          1.28  "
            ],
            "text/html": [
              "\n",
              "  <div id=\"df-fc01f935-9b0f-4778-8b05-c896a3bf28c7\" class=\"colab-df-container\">\n",
              "    <div>\n",
              "<style scoped>\n",
              "    .dataframe tbody tr th:only-of-type {\n",
              "        vertical-align: middle;\n",
              "    }\n",
              "\n",
              "    .dataframe tbody tr th {\n",
              "        vertical-align: top;\n",
              "    }\n",
              "\n",
              "    .dataframe thead th {\n",
              "        text-align: right;\n",
              "    }\n",
              "</style>\n",
              "<table border=\"1\" class=\"dataframe\">\n",
              "  <thead>\n",
              "    <tr style=\"text-align: right;\">\n",
              "      <th></th>\n",
              "      <th>ANO</th>\n",
              "      <th>CODIGO_CIE</th>\n",
              "      <th>CODIGO_INEP</th>\n",
              "      <th>CODIGO_DIRETORIA</th>\n",
              "      <th>NOME_DIRETORIA</th>\n",
              "      <th>NOME_ESCOLA</th>\n",
              "      <th>NOME_MUNICIPIO</th>\n",
              "      <th>ANOS_INICIAIS</th>\n",
              "      <th>ANOS_FINAIS</th>\n",
              "      <th>ENSINO_MEDIO</th>\n",
              "    </tr>\n",
              "  </thead>\n",
              "  <tbody>\n",
              "    <tr>\n",
              "      <th>0</th>\n",
              "      <td>2022</td>\n",
              "      <td>12</td>\n",
              "      <td>35000012</td>\n",
              "      <td>10101</td>\n",
              "      <td>NORTE 1</td>\n",
              "      <td>AYRES DE MOURA PROFESSOR</td>\n",
              "      <td>SAO PAULO</td>\n",
              "      <td>NaN</td>\n",
              "      <td>4.25</td>\n",
              "      <td>NaN</td>\n",
              "    </tr>\n",
              "    <tr>\n",
              "      <th>1</th>\n",
              "      <td>2022</td>\n",
              "      <td>24</td>\n",
              "      <td>35000024</td>\n",
              "      <td>10101</td>\n",
              "      <td>NORTE 1</td>\n",
              "      <td>GAVIAO PEIXOTO BRIGADEIRO</td>\n",
              "      <td>SAO PAULO</td>\n",
              "      <td>4.0</td>\n",
              "      <td>2.53</td>\n",
              "      <td>0.95</td>\n",
              "    </tr>\n",
              "    <tr>\n",
              "      <th>2</th>\n",
              "      <td>2022</td>\n",
              "      <td>36</td>\n",
              "      <td>35000036</td>\n",
              "      <td>10101</td>\n",
              "      <td>NORTE 1</td>\n",
              "      <td>JOAO SOLIMEO</td>\n",
              "      <td>SAO PAULO</td>\n",
              "      <td>NaN</td>\n",
              "      <td>2.33</td>\n",
              "      <td>1.09</td>\n",
              "    </tr>\n",
              "    <tr>\n",
              "      <th>3</th>\n",
              "      <td>2022</td>\n",
              "      <td>48</td>\n",
              "      <td>35000048</td>\n",
              "      <td>10101</td>\n",
              "      <td>NORTE 1</td>\n",
              "      <td>WALFREDO ARANTES CALDAS PROFESSOR</td>\n",
              "      <td>SAO PAULO</td>\n",
              "      <td>NaN</td>\n",
              "      <td>NaN</td>\n",
              "      <td>0.97</td>\n",
              "    </tr>\n",
              "    <tr>\n",
              "      <th>4</th>\n",
              "      <td>2022</td>\n",
              "      <td>59</td>\n",
              "      <td>35000059</td>\n",
              "      <td>10101</td>\n",
              "      <td>NORTE 1</td>\n",
              "      <td>SEBASTIAO DE OLIVEIRA GUSMAO PROFESSOR</td>\n",
              "      <td>SAO PAULO</td>\n",
              "      <td>NaN</td>\n",
              "      <td>NaN</td>\n",
              "      <td>1.28</td>\n",
              "    </tr>\n",
              "  </tbody>\n",
              "</table>\n",
              "</div>\n",
              "    <div class=\"colab-df-buttons\">\n",
              "\n",
              "  <div class=\"colab-df-container\">\n",
              "    <button class=\"colab-df-convert\" onclick=\"convertToInteractive('df-fc01f935-9b0f-4778-8b05-c896a3bf28c7')\"\n",
              "            title=\"Convert this dataframe to an interactive table.\"\n",
              "            style=\"display:none;\">\n",
              "\n",
              "  <svg xmlns=\"http://www.w3.org/2000/svg\" height=\"24px\" viewBox=\"0 -960 960 960\">\n",
              "    <path d=\"M120-120v-720h720v720H120Zm60-500h600v-160H180v160Zm220 220h160v-160H400v160Zm0 220h160v-160H400v160ZM180-400h160v-160H180v160Zm440 0h160v-160H620v160ZM180-180h160v-160H180v160Zm440 0h160v-160H620v160Z\"/>\n",
              "  </svg>\n",
              "    </button>\n",
              "\n",
              "  <style>\n",
              "    .colab-df-container {\n",
              "      display:flex;\n",
              "      gap: 12px;\n",
              "    }\n",
              "\n",
              "    .colab-df-convert {\n",
              "      background-color: #E8F0FE;\n",
              "      border: none;\n",
              "      border-radius: 50%;\n",
              "      cursor: pointer;\n",
              "      display: none;\n",
              "      fill: #1967D2;\n",
              "      height: 32px;\n",
              "      padding: 0 0 0 0;\n",
              "      width: 32px;\n",
              "    }\n",
              "\n",
              "    .colab-df-convert:hover {\n",
              "      background-color: #E2EBFA;\n",
              "      box-shadow: 0px 1px 2px rgba(60, 64, 67, 0.3), 0px 1px 3px 1px rgba(60, 64, 67, 0.15);\n",
              "      fill: #174EA6;\n",
              "    }\n",
              "\n",
              "    .colab-df-buttons div {\n",
              "      margin-bottom: 4px;\n",
              "    }\n",
              "\n",
              "    [theme=dark] .colab-df-convert {\n",
              "      background-color: #3B4455;\n",
              "      fill: #D2E3FC;\n",
              "    }\n",
              "\n",
              "    [theme=dark] .colab-df-convert:hover {\n",
              "      background-color: #434B5C;\n",
              "      box-shadow: 0px 1px 3px 1px rgba(0, 0, 0, 0.15);\n",
              "      filter: drop-shadow(0px 1px 2px rgba(0, 0, 0, 0.3));\n",
              "      fill: #FFFFFF;\n",
              "    }\n",
              "  </style>\n",
              "\n",
              "    <script>\n",
              "      const buttonEl =\n",
              "        document.querySelector('#df-fc01f935-9b0f-4778-8b05-c896a3bf28c7 button.colab-df-convert');\n",
              "      buttonEl.style.display =\n",
              "        google.colab.kernel.accessAllowed ? 'block' : 'none';\n",
              "\n",
              "      async function convertToInteractive(key) {\n",
              "        const element = document.querySelector('#df-fc01f935-9b0f-4778-8b05-c896a3bf28c7');\n",
              "        const dataTable =\n",
              "          await google.colab.kernel.invokeFunction('convertToInteractive',\n",
              "                                                    [key], {});\n",
              "        if (!dataTable) return;\n",
              "\n",
              "        const docLinkHtml = 'Like what you see? Visit the ' +\n",
              "          '<a target=\"_blank\" href=https://colab.research.google.com/notebooks/data_table.ipynb>data table notebook</a>'\n",
              "          + ' to learn more about interactive tables.';\n",
              "        element.innerHTML = '';\n",
              "        dataTable['output_type'] = 'display_data';\n",
              "        await google.colab.output.renderOutput(dataTable, element);\n",
              "        const docLink = document.createElement('div');\n",
              "        docLink.innerHTML = docLinkHtml;\n",
              "        element.appendChild(docLink);\n",
              "      }\n",
              "    </script>\n",
              "  </div>\n",
              "\n",
              "\n",
              "<div id=\"df-a12e5f40-abab-4124-ad47-6fc9979b3332\">\n",
              "  <button class=\"colab-df-quickchart\" onclick=\"quickchart('df-a12e5f40-abab-4124-ad47-6fc9979b3332')\"\n",
              "            title=\"Suggest charts\"\n",
              "            style=\"display:none;\">\n",
              "\n",
              "<svg xmlns=\"http://www.w3.org/2000/svg\" height=\"24px\"viewBox=\"0 0 24 24\"\n",
              "     width=\"24px\">\n",
              "    <g>\n",
              "        <path d=\"M19 3H5c-1.1 0-2 .9-2 2v14c0 1.1.9 2 2 2h14c1.1 0 2-.9 2-2V5c0-1.1-.9-2-2-2zM9 17H7v-7h2v7zm4 0h-2V7h2v10zm4 0h-2v-4h2v4z\"/>\n",
              "    </g>\n",
              "</svg>\n",
              "  </button>\n",
              "\n",
              "<style>\n",
              "  .colab-df-quickchart {\n",
              "      --bg-color: #E8F0FE;\n",
              "      --fill-color: #1967D2;\n",
              "      --hover-bg-color: #E2EBFA;\n",
              "      --hover-fill-color: #174EA6;\n",
              "      --disabled-fill-color: #AAA;\n",
              "      --disabled-bg-color: #DDD;\n",
              "  }\n",
              "\n",
              "  [theme=dark] .colab-df-quickchart {\n",
              "      --bg-color: #3B4455;\n",
              "      --fill-color: #D2E3FC;\n",
              "      --hover-bg-color: #434B5C;\n",
              "      --hover-fill-color: #FFFFFF;\n",
              "      --disabled-bg-color: #3B4455;\n",
              "      --disabled-fill-color: #666;\n",
              "  }\n",
              "\n",
              "  .colab-df-quickchart {\n",
              "    background-color: var(--bg-color);\n",
              "    border: none;\n",
              "    border-radius: 50%;\n",
              "    cursor: pointer;\n",
              "    display: none;\n",
              "    fill: var(--fill-color);\n",
              "    height: 32px;\n",
              "    padding: 0;\n",
              "    width: 32px;\n",
              "  }\n",
              "\n",
              "  .colab-df-quickchart:hover {\n",
              "    background-color: var(--hover-bg-color);\n",
              "    box-shadow: 0 1px 2px rgba(60, 64, 67, 0.3), 0 1px 3px 1px rgba(60, 64, 67, 0.15);\n",
              "    fill: var(--button-hover-fill-color);\n",
              "  }\n",
              "\n",
              "  .colab-df-quickchart-complete:disabled,\n",
              "  .colab-df-quickchart-complete:disabled:hover {\n",
              "    background-color: var(--disabled-bg-color);\n",
              "    fill: var(--disabled-fill-color);\n",
              "    box-shadow: none;\n",
              "  }\n",
              "\n",
              "  .colab-df-spinner {\n",
              "    border: 2px solid var(--fill-color);\n",
              "    border-color: transparent;\n",
              "    border-bottom-color: var(--fill-color);\n",
              "    animation:\n",
              "      spin 1s steps(1) infinite;\n",
              "  }\n",
              "\n",
              "  @keyframes spin {\n",
              "    0% {\n",
              "      border-color: transparent;\n",
              "      border-bottom-color: var(--fill-color);\n",
              "      border-left-color: var(--fill-color);\n",
              "    }\n",
              "    20% {\n",
              "      border-color: transparent;\n",
              "      border-left-color: var(--fill-color);\n",
              "      border-top-color: var(--fill-color);\n",
              "    }\n",
              "    30% {\n",
              "      border-color: transparent;\n",
              "      border-left-color: var(--fill-color);\n",
              "      border-top-color: var(--fill-color);\n",
              "      border-right-color: var(--fill-color);\n",
              "    }\n",
              "    40% {\n",
              "      border-color: transparent;\n",
              "      border-right-color: var(--fill-color);\n",
              "      border-top-color: var(--fill-color);\n",
              "    }\n",
              "    60% {\n",
              "      border-color: transparent;\n",
              "      border-right-color: var(--fill-color);\n",
              "    }\n",
              "    80% {\n",
              "      border-color: transparent;\n",
              "      border-right-color: var(--fill-color);\n",
              "      border-bottom-color: var(--fill-color);\n",
              "    }\n",
              "    90% {\n",
              "      border-color: transparent;\n",
              "      border-bottom-color: var(--fill-color);\n",
              "    }\n",
              "  }\n",
              "</style>\n",
              "\n",
              "  <script>\n",
              "    async function quickchart(key) {\n",
              "      const quickchartButtonEl =\n",
              "        document.querySelector('#' + key + ' button');\n",
              "      quickchartButtonEl.disabled = true;  // To prevent multiple clicks.\n",
              "      quickchartButtonEl.classList.add('colab-df-spinner');\n",
              "      try {\n",
              "        const charts = await google.colab.kernel.invokeFunction(\n",
              "            'suggestCharts', [key], {});\n",
              "      } catch (error) {\n",
              "        console.error('Error during call to suggestCharts:', error);\n",
              "      }\n",
              "      quickchartButtonEl.classList.remove('colab-df-spinner');\n",
              "      quickchartButtonEl.classList.add('colab-df-quickchart-complete');\n",
              "    }\n",
              "    (() => {\n",
              "      let quickchartButtonEl =\n",
              "        document.querySelector('#df-a12e5f40-abab-4124-ad47-6fc9979b3332 button');\n",
              "      quickchartButtonEl.style.display =\n",
              "        google.colab.kernel.accessAllowed ? 'block' : 'none';\n",
              "    })();\n",
              "  </script>\n",
              "</div>\n",
              "    </div>\n",
              "  </div>\n"
            ],
            "application/vnd.google.colaboratory.intrinsic+json": {
              "type": "dataframe",
              "variable_name": "df",
              "summary": "{\n  \"name\": \"df\",\n  \"rows\": 10,\n  \"fields\": [\n    {\n      \"column\": \"ANO\",\n      \"properties\": {\n        \"dtype\": \"number\",\n        \"std\": 0,\n        \"min\": 2022,\n        \"max\": 2022,\n        \"num_unique_values\": 1,\n        \"samples\": [\n          2022\n        ],\n        \"semantic_type\": \"\",\n        \"description\": \"\"\n      }\n    },\n    {\n      \"column\": \"CODIGO_CIE\",\n      \"properties\": {\n        \"dtype\": \"number\",\n        \"std\": 30,\n        \"min\": 12,\n        \"max\": 103,\n        \"num_unique_values\": 10,\n        \"samples\": [\n          97\n        ],\n        \"semantic_type\": \"\",\n        \"description\": \"\"\n      }\n    },\n    {\n      \"column\": \"CODIGO_INEP\",\n      \"properties\": {\n        \"dtype\": \"number\",\n        \"std\": 30,\n        \"min\": 35000012,\n        \"max\": 35000103,\n        \"num_unique_values\": 10,\n        \"samples\": [\n          35000097\n        ],\n        \"semantic_type\": \"\",\n        \"description\": \"\"\n      }\n    },\n    {\n      \"column\": \"CODIGO_DIRETORIA\",\n      \"properties\": {\n        \"dtype\": \"number\",\n        \"std\": 0,\n        \"min\": 10101,\n        \"max\": 10101,\n        \"num_unique_values\": 1,\n        \"samples\": [\n          10101\n        ],\n        \"semantic_type\": \"\",\n        \"description\": \"\"\n      }\n    },\n    {\n      \"column\": \"NOME_DIRETORIA\",\n      \"properties\": {\n        \"dtype\": \"category\",\n        \"num_unique_values\": 1,\n        \"samples\": [\n          \"NORTE 1\"\n        ],\n        \"semantic_type\": \"\",\n        \"description\": \"\"\n      }\n    },\n    {\n      \"column\": \"NOME_ESCOLA\",\n      \"properties\": {\n        \"dtype\": \"string\",\n        \"num_unique_values\": 10,\n        \"samples\": [\n          \"RENATO DE ARRUDA PENTEADO PROFESSOR\"\n        ],\n        \"semantic_type\": \"\",\n        \"description\": \"\"\n      }\n    },\n    {\n      \"column\": \"NOME_MUNICIPIO\",\n      \"properties\": {\n        \"dtype\": \"category\",\n        \"num_unique_values\": 1,\n        \"samples\": [\n          \"SAO PAULO\"\n        ],\n        \"semantic_type\": \"\",\n        \"description\": \"\"\n      }\n    },\n    {\n      \"column\": \"ANOS_INICIAIS\",\n      \"properties\": {\n        \"dtype\": \"number\",\n        \"std\": 0.5568392945904591,\n        \"min\": 3.61,\n        \"max\": 5.08,\n        \"num_unique_values\": 5,\n        \"samples\": [\n          3.94\n        ],\n        \"semantic_type\": \"\",\n        \"description\": \"\"\n      }\n    },\n    {\n      \"column\": \"ANOS_FINAIS\",\n      \"properties\": {\n        \"dtype\": \"number\",\n        \"std\": 1.0555251457607884,\n        \"min\": 2.33,\n        \"max\": 4.25,\n        \"num_unique_values\": 3,\n        \"samples\": [\n          4.25\n        ],\n        \"semantic_type\": \"\",\n        \"description\": \"\"\n      }\n    },\n    {\n      \"column\": \"ENSINO_MEDIO\",\n      \"properties\": {\n        \"dtype\": \"number\",\n        \"std\": 0.5037360419902472,\n        \"min\": 0.95,\n        \"max\": 2.16,\n        \"num_unique_values\": 5,\n        \"samples\": [\n          1.09\n        ],\n        \"semantic_type\": \"\",\n        \"description\": \"\"\n      }\n    }\n  ]\n}"
            }
          },
          "metadata": {},
          "execution_count": 115
        }
      ]
    },
    {
      "cell_type": "markdown",
      "source": [
        "## Referências\n",
        " - SANTAREM SEGUNDO, Jose Eduardo. *Data Science para Humanas, Introdução a análise de dados, modelos e algoritmos de Machine Learning*. 26 de março de 2024. Faculdade de Filosofia, Ciências e Letras de Ribeirão Preto, Ribeirão Preto, SP\n",
        " - https://www.youtube.com/dataprofessor (acesso em 03/04/2024)\n",
        " - SOBRENOME, Nome do professor. Nome da disciplina ou aula. Data da aula. Nome da instituição, Local.\n",
        " - https://github.com/dadosgovbr/catalogos-dados-brasil/blob/master/scripts/uso/como-usar-com-o-pandas.ipynb (acesso em 03/03/2024)\n",
        " - ChatGPT-4 (diversos prompts diferentes)\n",
        " - https://framework.frictionlessdata.io/ (acesso em 04/04/2024)\n",
        " - https://thivyapriyaa.medium.com/google-colab-series-setting-up-sqlite-de2aaaa02ec5 (acesso em 04/04/2024)\n",
        " - https://medium.com/@raftaarrashedin100/sqlite-connection-using-python-in-google-colab-6c8130fd672d (acesso em 05/04/2024)"
      ],
      "metadata": {
        "id": "J-6AC_dvi3iQ"
      }
    }
  ]
}